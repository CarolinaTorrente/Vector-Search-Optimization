{
 "cells": [
  {
   "cell_type": "code",
   "execution_count": 1,
   "metadata": {},
   "outputs": [],
   "source": [
    "import sys\n",
    "sys.path.append(\"..\")"
   ]
  },
  {
   "cell_type": "code",
   "execution_count": 2,
   "metadata": {
    "application/vnd.databricks.v1+cell": {
     "cellMetadata": {
      "byteLimit": 2048000,
      "rowLimit": 10000
     },
     "inputWidgets": {},
     "nuid": "eb7a8c34-caf6-4af8-8c6d-19203aa02188",
     "showTitle": false,
     "title": ""
    }
   },
   "outputs": [],
   "source": [
    "# %pip install UMAP\n",
    "# %pip install umap\n",
    "# %pip install --upgrade umap-learn\n",
    "# %pip install -U kaleido"
   ]
  },
  {
   "cell_type": "code",
   "execution_count": 3,
   "metadata": {
    "application/vnd.databricks.v1+cell": {
     "cellMetadata": {
      "byteLimit": 2048000,
      "rowLimit": 10000
     },
     "inputWidgets": {},
     "nuid": "b34e905c-5a80-45ce-8b63-bcf0b50e45d3",
     "showTitle": false,
     "title": ""
    }
   },
   "outputs": [],
   "source": [
    "from sklearn.metrics.pairwise import cosine_similarity, euclidean_distances, manhattan_distances, cosine_distances\n",
    "import numpy as np\n",
    "import logging\n",
    "import pandas as pd\n",
    "import seaborn as sns\n",
    "import matplotlib.pyplot as plt\n",
    "import umap\n",
    "from sklearn.cluster import KMeans, DBSCAN\n",
    "from sklearn.decomposition import PCA\n",
    "from scipy.spatial.distance import pdist, squareform\n",
    "import plotly.express as px\n",
    "import matplotlib.colors as mcolors\n",
    "import warnings\n",
    "import io\n",
    "from PIL import Image\n",
    "import nbformat\n",
    "import IPython\n",
    "import plotly.graph_objects as go\n",
    "from mpl_toolkits.mplot3d import Axes3D\n",
    "from dch_etl.azure_clients.openai_client import OpenAiClient\n",
    "import plotly.io as pio\n",
    "from sklearn.metrics import pairwise\n",
    "from sklearn.neighbors import LocalOutlierFactor\n",
    "from sklearn.covariance import MinCovDet\n",
    "from sklearn.neighbors import NearestNeighbors\n",
    "from collections import Counter\n",
    "\n",
    "import nbconvert\n",
    "import networkx as nx\n",
    "#from azure.core.credentials import AzureKeyCredential\n",
    "#from azure.search.documents import SearchClient"
   ]
  },
  {
   "cell_type": "markdown",
   "metadata": {},
   "source": [
    "## Importar y crear df"
   ]
  },
  {
   "cell_type": "code",
   "execution_count": 4,
   "metadata": {
    "application/vnd.databricks.v1+cell": {
     "cellMetadata": {
      "byteLimit": 2048000,
      "rowLimit": 10000
     },
     "inputWidgets": {},
     "nuid": "eccb7121-3142-49ad-bb68-2a2cdba84644",
     "showTitle": false,
     "title": ""
    }
   },
   "outputs": [],
   "source": [
    "import csv\n",
    "\n",
    "file_path = 'C:\\\\Users\\\\55641856\\\\Desktop\\\\prep-script\\\\cluster_centroids.csv'\n",
    "with open(file_path, \"r\") as file:\n",
    "    reader = csv.DictReader(file)\n",
    "    keys = reader.fieldnames\n",
    "    results = list(reader)"
   ]
  },
  {
   "cell_type": "code",
   "execution_count": 5,
   "metadata": {
    "application/vnd.databricks.v1+cell": {
     "cellMetadata": {
      "byteLimit": 2048000,
      "rowLimit": 10000
     },
     "inputWidgets": {},
     "nuid": "d07cbdc9-a549-406c-bd35-ed33934245be",
     "showTitle": false,
     "title": ""
    }
   },
   "outputs": [],
   "source": [
    "centroides_df = pd.read_csv(file_path)\n",
    "\n",
    "# Check if the specified columns exist before selecting them\n",
    "columns = ['cluster_label', 'centroid', 'etiqueta']\n",
    "missing_columns = [col for col in columns if col not in centroides_df.columns]\n",
    "\n",
    "if missing_columns:\n",
    "    print(f\"Warning: The following columns are missing: {missing_columns}\")\n",
    "else:\n",
    "    centroides_df = centroides_df[columns]\n"
   ]
  },
  {
   "cell_type": "code",
   "execution_count": 6,
   "metadata": {
    "application/vnd.databricks.v1+cell": {
     "cellMetadata": {
      "byteLimit": 2048000,
      "rowLimit": 10000
     },
     "inputWidgets": {},
     "nuid": "da6534a9-904b-4f25-a604-5543947290a0",
     "showTitle": false,
     "title": ""
    }
   },
   "outputs": [],
   "source": [
    "import json\n",
    "\n",
    "file_path = 'C:\\\\Users\\\\55641856\\\\Desktop\\\\prep-script\\\\documentos_pre.json'\n",
    "with open(file_path, \"r\") as file:\n",
    "    results2 = json.load(file)"
   ]
  },
  {
   "cell_type": "code",
   "execution_count": 7,
   "metadata": {},
   "outputs": [
    {
     "data": {
      "text/plain": [
       "dict_keys(['document_path', 'ts_file_update', 'category', 'description', 'original_canonic_path', 'content_vector', 'dt_end', 'document_id', 'file_size', 'calendar_name', 'location', 'site_name', 'sp', 'title', 'sheet_name', 'event_id', 'event_name', 'dt_start', 'content', 'etiqueta_cluster', 'event_url', 'ts_creation', 'original_path', 'content_md', 'document_name', 'chunk_id', 'content_type', 'id', 'ts_processed', 'page_number', '@search.score', '@search.reranker_score', '@search.highlights', '@search.captions'])"
      ]
     },
     "execution_count": 7,
     "metadata": {},
     "output_type": "execute_result"
    }
   ],
   "source": [
    "results2[0].keys()"
   ]
  },
  {
   "cell_type": "code",
   "execution_count": null,
   "metadata": {
    "application/vnd.databricks.v1+cell": {
     "cellMetadata": {
      "byteLimit": 2048000,
      "rowLimit": 10000
     },
     "inputWidgets": {},
     "nuid": "88a38276-3a44-4b58-b281-0e978ff2c29a",
     "showTitle": false,
     "title": ""
    }
   },
   "outputs": [],
   "source": [
    "embeddings_df = pd.DataFrame(results2)[['original_path', \"id\", \"content\", \"content_type\",\"category\", \"content_vector\", 'document_id', 'chunk_id', 'page_number', 'event_url', 'document_name', 'title', 'description']]"
   ]
  },
  {
   "cell_type": "markdown",
   "metadata": {
    "application/vnd.databricks.v1+cell": {
     "cellMetadata": {},
     "inputWidgets": {},
     "nuid": "d0c0f39e-1b96-464b-ad09-57c762272e08",
     "showTitle": false,
     "title": ""
    }
   },
   "source": [
    "Normalizar los vectores en content_vector"
   ]
  },
  {
   "cell_type": "code",
   "execution_count": 9,
   "metadata": {
    "application/vnd.databricks.v1+cell": {
     "cellMetadata": {
      "byteLimit": 2048000,
      "rowLimit": 10000
     },
     "inputWidgets": {},
     "nuid": "c9930f52-c631-4265-8fdf-4ed2702041c9",
     "showTitle": false,
     "title": ""
    }
   },
   "outputs": [],
   "source": [
    "# Función para normalizar un vector\n",
    "def normalizar_vector(vector):\n",
    "    norma = np.linalg.norm(vector)\n",
    "    return vector / norma if norma != 0 else vector\n",
    "\n",
    "# Aplicar la normalización a cada vector en la columna content_vector\n",
    "embeddings_df['content_vector_norm'] = embeddings_df['content_vector'].apply(normalizar_vector)"
   ]
  },
  {
   "cell_type": "markdown",
   "metadata": {
    "application/vnd.databricks.v1+cell": {
     "cellMetadata": {},
     "inputWidgets": {},
     "nuid": "086bdeba-0ea9-494c-969b-56acb3d7d6e9",
     "showTitle": false,
     "title": ""
    }
   },
   "source": [
    "Asignar etiqueta a cada embedding normalizado"
   ]
  },
  {
   "cell_type": "code",
   "execution_count": 10,
   "metadata": {
    "application/vnd.databricks.v1+cell": {
     "cellMetadata": {
      "byteLimit": 2048000,
      "rowLimit": 10000
     },
     "inputWidgets": {},
     "nuid": "157155cb-659a-40d0-a3a1-b8758cb0f84a",
     "showTitle": false,
     "title": ""
    }
   },
   "outputs": [],
   "source": [
    "# Convertir centroides a un array de numpy, asegurando que son numéricos\n",
    "centroides = np.array([np.fromstring(c[1:-1], sep=',') for c in centroides_df['centroid'].values])\n",
    "\n",
    "# # Verifica las dimensiones\n",
    "# print(\"Dimensiones de los embeddings:\", embeddings_df['content_vector_norm'].iloc[0].shape)\n",
    "# print(\"Dimensiones de los centroides:\", centroides.shape)\n",
    "\n",
    "# Función para calcular la distancia Euclidiana\n",
    "def calcular_distancia(embedding, centroides):\n",
    "    return np.linalg.norm(centroides - embedding, axis=1)\n",
    "\n",
    "# Listas para almacenar las etiquetas y los centroides más cercanos\n",
    "etiquetas_cercanas = []\n",
    "centroides_cercanos = []\n",
    "\n",
    "# Iterar sobre cada embedding en embeddings_df\n",
    "for index, row in embeddings_df.iterrows():\n",
    "    embedding = row['content_vector_norm']\n",
    "    distancias = calcular_distancia(embedding, centroides)\n",
    "    indice_minimo = np.argmin(distancias)\n",
    "    \n",
    "    # Agregar la etiqueta y el centroide correspondiente al DataFrame\n",
    "    etiquetas_cercanas.append(centroides_df['etiqueta'].iloc[indice_minimo])\n",
    "    centroides_cercanos.append(centroides[indice_minimo])\n",
    "\n",
    "# Crear nuevas columnas en embeddings_df\n",
    "embeddings_df['etiqueta_asignada'] = etiquetas_cercanas\n",
    "embeddings_df['centroide'] = centroides_cercanos\n",
    "\n"
   ]
  },
  {
   "cell_type": "code",
   "execution_count": 16,
   "metadata": {},
   "outputs": [
    {
     "name": "stdout",
     "output_type": "stream",
     "text": [
      "Total de 'document_id': 1190\n",
      "Total de 'chunk_id': 5755\n"
     ]
    }
   ],
   "source": [
    "# Contar el número total de 'document_id' y 'chunk_id'\n",
    "num_document_ids = embeddings_df['document_id'].nunique()\n",
    "num_chunk_ids = embeddings_df['chunk_id'].count()\n",
    "\n",
    "print(f\"Total de 'document_id': {num_document_ids}\")\n",
    "print(f\"Total de 'chunk_id': {num_chunk_ids}\")\n"
   ]
  },
  {
   "cell_type": "markdown",
   "metadata": {},
   "source": [
    "Asignamos un color a cada tipo de chunk"
   ]
  },
  {
   "cell_type": "code",
   "execution_count": 17,
   "metadata": {},
   "outputs": [],
   "source": [
    "color_mapping = {\n",
    "    'site': '#FFB347',\n",
    "    'calendar': '#84b6f4',  \n",
    "    'table': '#77dd77',    \n",
    "    'document': '#ff6961',      \n",
    "}\n",
    "embeddings_df['color'] = embeddings_df['category'].map(color_mapping)"
   ]
  },
  {
   "cell_type": "markdown",
   "metadata": {},
   "source": [
    "Asignamos un número a cada etiqueta"
   ]
  },
  {
   "cell_type": "code",
   "execution_count": 18,
   "metadata": {},
   "outputs": [],
   "source": [
    "# Paso 1: Crear un diccionario para asignar números a cada etiqueta\n",
    "etiquetas_unicas = embeddings_df['etiqueta_asignada'].unique()\n",
    "etiqueta_dict = {etiqueta: i for i, etiqueta in enumerate(etiquetas_unicas)}\n",
    "\n",
    "# Paso 2: Crear una nueva columna en el DataFrame\n",
    "embeddings_df['etiqueta_numero'] = embeddings_df['etiqueta_asignada'].map(etiqueta_dict)"
   ]
  },
  {
   "cell_type": "markdown",
   "metadata": {},
   "source": [
    "Missing silhouette plot"
   ]
  },
  {
   "cell_type": "code",
   "execution_count": 19,
   "metadata": {},
   "outputs": [],
   "source": [
    "# import numpy as np\n",
    "# import matplotlib.pyplot as plt\n",
    "# from sklearn.cluster import KMeans\n",
    "# from sklearn.metrics import silhouette_score\n",
    "\n",
    "# # Assuming embeddings_df is already defined and contains 'content_vector_norm'\n",
    "# X = np.vstack(embeddings_df['content_vector_norm'].to_numpy())\n",
    "\n",
    "# # Perform 100 calculations per cluster and take the best silhouette score for each cluster count\n",
    "# range_n_clusters = range(30, 60)\n",
    "# best_silhouette_scores = []\n",
    "# best_random_seeds = []  # Store the random seed for the best score\n",
    "\n",
    "# for n_clusters in range_n_clusters:\n",
    "#     best_score = -1  # Initialize with the lowest possible score\n",
    "#     best_seed = None  # To store the best random seed\n",
    "#     for seed in range(5):  # Perform 100 iterations with different random seeds\n",
    "#         kmeans = KMeans(n_clusters=n_clusters, random_state=seed)  # Random seed each time\n",
    "#         cluster_labels = kmeans.fit_predict(X)\n",
    "#         silhouette_avg = silhouette_score(X, cluster_labels)\n",
    "        \n",
    "#         if silhouette_avg > best_score:\n",
    "#             best_score = silhouette_avg  # Update the best score for this cluster count\n",
    "#             best_seed = seed  # Store the best seed for the optimal silhouette score\n",
    "    \n",
    "#     best_silhouette_scores.append(best_score)\n",
    "#     best_random_seeds.append(best_seed)  # Append the best seed for the cluster count\n",
    "\n",
    "# # Plot the best silhouette scores\n",
    "# plt.figure(figsize=(10, 6))\n",
    "# plt.plot(range_n_clusters, best_silhouette_scores, marker='o', linestyle='-', color='b')\n",
    "# plt.title(\"Best Silhouette Scores for Various Numbers of Clusters\")\n",
    "# plt.xlabel(\"Number of Clusters\")\n",
    "# plt.ylabel(\"Best Silhouette Score\")\n",
    "# plt.xticks(range_n_clusters)\n",
    "# plt.grid(True)\n",
    "# plt.show()\n",
    "\n",
    "# # If you want to see the random seeds that resulted in the best scores for each cluster count:\n",
    "# print(\"Best random seeds for each cluster count:\")\n",
    "# for n_clusters, seed in zip(range_n_clusters, best_random_seeds):\n",
    "#     print(f\"Cluster count {n_clusters}: Best random seed {seed}\")\n"
   ]
  },
  {
   "cell_type": "markdown",
   "metadata": {},
   "source": [
    "Chunks similarity"
   ]
  },
  {
   "cell_type": "code",
   "execution_count": 20,
   "metadata": {},
   "outputs": [],
   "source": [
    "def similarity(embeddings_df):\n",
    "    data = embeddings_df[['document_id', 'chunk_id', 'content_vector_norm']]\n",
    "\n",
    "    # Compute similarity within each document\n",
    "    similarity_results = []\n",
    "    for document_id, group in data.groupby('document_id'):\n",
    "        chunk_vectors = np.vstack(group['content_vector_norm'].to_numpy())\n",
    "        n_chunks = chunk_vectors.shape[0]\n",
    "        \n",
    "        # Handle documents with only one chunk\n",
    "        if n_chunks == 1:\n",
    "            similarity_results.append({'document_id': document_id, 'n_chunks': 1, \n",
    "                                    'similarity_above_0.8': 0, 'similarity_below_0.8': 0})\n",
    "            continue\n",
    "\n",
    "        # Compute pairwise cosine similarity\n",
    "        similarity_matrix = cosine_similarity(chunk_vectors)\n",
    "        upper_tri_indices = np.triu_indices(n_chunks, k=1)\n",
    "        pairwise_similarities = similarity_matrix[upper_tri_indices]\n",
    "        \n",
    "        # Categorize similarities\n",
    "        above_0_8 = np.sum(pairwise_similarities > 0.8)\n",
    "        below_0_8 = np.sum(pairwise_similarities <= 0.8)\n",
    "\n",
    "        similarity_results.append({\n",
    "            'document_id': document_id,\n",
    "            'n_chunks': n_chunks,\n",
    "            'similarity_above_0.8': above_0_8,\n",
    "            'similarity_below_0.8': below_0_8\n",
    "        })\n",
    "\n",
    "    # Create a DataFrame of the results\n",
    "    similarity_df = pd.DataFrame(similarity_results)\n",
    "\n",
    "    # Compute overall statistics\n",
    "    total_documents = similarity_df.shape[0]\n",
    "    one_chunk_documents = similarity_df[similarity_df['n_chunks'] == 1].shape[0]\n",
    "    multi_chunk_documents = total_documents - one_chunk_documents\n",
    "\n",
    "    total_comparisons = similarity_df['similarity_above_0.8'].sum() + similarity_df['similarity_below_0.8'].sum()\n",
    "    percent_above_0_8 = similarity_df['similarity_above_0.8'].sum() / total_comparisons * 100\n",
    "    percent_below_0_8 = similarity_df['similarity_below_0.8'].sum() / total_comparisons * 100\n",
    "    percent_one_chunk = one_chunk_documents / total_documents * 100\n",
    "\n",
    "    # Bar plot visualization\n",
    "    labels = ['>0.8 Similarity', '<=0.8 Similarity', 'One Chunk Documents']\n",
    "    percentages = [percent_above_0_8, percent_below_0_8, percent_one_chunk]\n",
    "\n",
    "    plt.figure(figsize=(10, 6))\n",
    "    plt.bar(labels, percentages, color=['green', 'orange', 'blue'])\n",
    "    plt.title('Cosine Similarity Distribution for Chunks belonging to same Document')\n",
    "    plt.ylabel('Percentage (%)')\n",
    "    plt.ylim(0, 100)\n",
    "    plt.grid(axis='y', linestyle='--', alpha=0.7)\n",
    "    for i, percentage in enumerate(percentages):\n",
    "        plt.text(i, percentage + 1, f\"{percentage:.2f}%\", ha='center', fontsize=12)\n",
    "    plt.show()\n",
    "\n",
    "    # Print summary\n",
    "    print(f\"Total Documents: {total_documents}\")\n",
    "    print(f\"Documents with One Chunk: {one_chunk_documents} ({percent_one_chunk:.2f}%)\")\n",
    "    print(f\"Total Pairwise Comparisons: {total_comparisons}\")\n",
    "    print(f\"Percentage > 0.8 Similarity: {percent_above_0_8:.2f}%\")\n",
    "    print(f\"Percentage <= 0.8 Similarity: {percent_below_0_8:.2f}%\")\n"
   ]
  },
  {
   "cell_type": "code",
   "execution_count": 45,
   "metadata": {},
   "outputs": [],
   "source": [
    "def similarity(embeddings_df):\n",
    "    data = embeddings_df[['document_id', 'chunk_id', 'content_vector_norm']]\n",
    "\n",
    "    similarity_results = []\n",
    "    for document_id, group in data.groupby('document_id'):\n",
    "        chunk_vectors = np.vstack(group['content_vector_norm'].to_numpy())\n",
    "        n_chunks = chunk_vectors.shape[0]\n",
    "        \n",
    "        if n_chunks == 1:\n",
    "            similarity_results.append({'document_id': document_id, 'n_chunks': 1, \n",
    "                                    'similarity_above_0.8': 0, 'similarity_below_0.8': 0})\n",
    "            continue\n",
    "\n",
    "        similarity_matrix = cosine_similarity(chunk_vectors)\n",
    "        upper_tri_indices = np.triu_indices(n_chunks, k=1)\n",
    "        pairwise_similarities = similarity_matrix[upper_tri_indices]\n",
    "        \n",
    "        above_0_8 = np.sum(pairwise_similarities > 0.8)\n",
    "        below_0_8 = np.sum(pairwise_similarities <= 0.8)\n",
    "\n",
    "        similarity_results.append({\n",
    "            'document_id': document_id,\n",
    "            'n_chunks': n_chunks,\n",
    "            'similarity_above_0.8': above_0_8,\n",
    "            'similarity_below_0.8': below_0_8\n",
    "        })\n",
    "\n",
    "    similarity_df = pd.DataFrame(similarity_results)\n",
    "\n",
    "    total_documents = similarity_df.shape[0]\n",
    "    one_chunk_documents = similarity_df[similarity_df['n_chunks'] == 1].shape[0]\n",
    "    multi_chunk_documents = total_documents - one_chunk_documents\n",
    "\n",
    "    total_comparisons = similarity_df['similarity_above_0.8'].sum() + similarity_df['similarity_below_0.8'].sum()\n",
    "    percent_above_0_8 = similarity_df['similarity_above_0.8'].sum() / total_comparisons * 100\n",
    "    percent_below_0_8 = similarity_df['similarity_below_0.8'].sum() / total_comparisons * 100\n",
    "    percent_one_chunk = one_chunk_documents / total_documents * 100\n",
    "    percent_multi_chunk = multi_chunk_documents / total_documents * 100\n",
    "\n",
    "    # Create subplots\n",
    "    fig, (ax1, ax2) = plt.subplots(1, 2, figsize=(15, 6))\n",
    "    colors7 = sns.color_palette('cubehelix', 8)[6]  # Color 7\n",
    "    colors8 = sns.color_palette('cubehelix', 8)[7]  # Color 8\n",
    "    colors9 = sns.cubehelix_palette(8)[0]\n",
    "    colors10 = sns.cubehelix_palette(8)[1]\n",
    "\n",
    "    # First subplot: Document chunk distribution with hatching\n",
    "    chunk_labels = ['One Chunk', 'Multiple Chunks']\n",
    "    chunk_percentages = [percent_one_chunk, percent_multi_chunk]\n",
    "    bars1 = ax1.bar(chunk_labels, chunk_percentages, color=[colors7,colors8], alpha=0.8)\n",
    "    hatches1 = ['.', ' ']  # Hatching patterns for first plot\n",
    "    for bar, hatch in zip(bars1, hatches1):\n",
    "        bar.set_hatch(hatch)\n",
    "    ax1.set_title('Document Chunk Distribution')\n",
    "    ax1.set_ylabel('Percentage (%)')\n",
    "    ax1.set_ylim(0, 100)\n",
    "    ax1.grid(axis='y', linestyle='--', alpha=0.7)\n",
    "    for i, percentage in enumerate(chunk_percentages):\n",
    "        ax1.text(i, percentage + 1, f\"{percentage:.2f}%\", ha='center', fontsize=10)\n",
    "\n",
    "    # Second subplot: Similarity distribution with hatching\n",
    "    similarity_labels = ['>0.8 Similarity', '≤0.8 Similarity']\n",
    "    similarity_percentages = [percent_above_0_8, percent_below_0_8]\n",
    "    bars2 = ax2.bar(similarity_labels, similarity_percentages,color=[colors9,colors10], alpha=0.8)\n",
    "    hatches2 = ['/', ' ']  # Hatching patterns for second plot\n",
    "    for bar, hatch in zip(bars2, hatches2):\n",
    "        bar.set_hatch(hatch)\n",
    "    ax2.set_title('Chunk Similarity Distribution')\n",
    "    ax2.set_ylabel('Percentage (%)')\n",
    "    ax2.set_ylim(0, 100)\n",
    "    ax2.grid(axis='y', linestyle='--', alpha=0.7)\n",
    "    for i, percentage in enumerate(similarity_percentages):\n",
    "        ax2.text(i, percentage + 1, f\"{percentage:.2f}%\", ha='center', fontsize=10)\n",
    "\n",
    "    plt.tight_layout()\n",
    "    plt.show()\n",
    "\n",
    "    # Print summary\n",
    "    print(f\"Total Documents: {total_documents}\")\n",
    "    print(f\"Documents with One Chunk: {one_chunk_documents} ({percent_one_chunk:.2f}%)\")\n",
    "    print(f\"Total Pairwise Comparisons: {total_comparisons}\")\n",
    "    print(f\"Percentage > 0.8 Similarity: {percent_above_0_8:.2f}%\")\n",
    "    print(f\"Percentage <= 0.8 Similarity: {percent_below_0_8:.2f}%\")\n"
   ]
  },
  {
   "cell_type": "code",
   "execution_count": 46,
   "metadata": {},
   "outputs": [
    {
     "name": "stderr",
     "output_type": "stream",
     "text": [
      "C:\\Users\\55641856\\AppData\\Local\\Temp\\ipykernel_19312\\2914894406.py:53: MatplotlibDeprecationWarning: hatch must consist of a string of \"*+-./OX\\ox|\" or None, but found the following invalid values \" \". Passing invalid values is deprecated since 3.4 and will become an error in 3.11.\n",
      "  bar.set_hatch(hatch)\n",
      "C:\\Users\\55641856\\AppData\\Local\\Temp\\ipykernel_19312\\2914894406.py:67: MatplotlibDeprecationWarning: hatch must consist of a string of \"*+-./OX\\ox|\" or None, but found the following invalid values \" \". Passing invalid values is deprecated since 3.4 and will become an error in 3.11.\n",
      "  bar.set_hatch(hatch)\n"
     ]
    },
    {
     "data": {
      "image/png": "[encoded data removed]",
      "text/plain": [
       "<Figure size 1500x600 with 2 Axes>"
      ]
     },
     "metadata": {},
     "output_type": "display_data"
    },
    {
     "name": "stdout",
     "output_type": "stream",
     "text": [
      "Total Documents: 1190\n",
      "Documents with One Chunk: 586 (49.24%)\n",
      "Total Pairwise Comparisons: 346486\n",
      "Percentage > 0.8 Similarity: 55.66%\n",
      "Percentage <= 0.8 Similarity: 44.34%\n"
     ]
    }
   ],
   "source": [
    "similarity(embeddings_df)"
   ]
  }
 ],
 "metadata": {
  "application/vnd.databricks.v1+notebook": {
   "dashboards": [],
   "environmentMetadata": {
    "base_environment": "",
    "client": "1"
   },
   "language": "python",
   "notebookMetadata": {
    "pythonIndentUnit": 4
   },
   "notebookName": "main-script1",
   "widgets": {}
  },
  "kernelspec": {
   "display_name": ".venv",
   "language": "python",
   "name": "python3"
  },
  "language_info": {
   "codemirror_mode": {
    "name": "ipython",
    "version": 3
   },
   "file_extension": ".py",
   "mimetype": "text/x-python",
   "name": "python",
   "nbconvert_exporter": "python",
   "pygments_lexer": "ipython3",
   "version": "3.11.0"
  }
 },
 "nbformat": 4,
 "nbformat_minor": 0
}
